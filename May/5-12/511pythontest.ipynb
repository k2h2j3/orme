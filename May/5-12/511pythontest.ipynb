{
  "nbformat": 4,
  "nbformat_minor": 0,
  "metadata": {
    "colab": {
      "provenance": []
    },
    "kernelspec": {
      "name": "python3",
      "display_name": "Python 3"
    },
    "language_info": {
      "name": "python"
    }
  },
  "cells": [
    {
      "cell_type": "code",
      "execution_count": 2,
      "metadata": {
        "colab": {
          "base_uri": "https://localhost:8080/"
        },
        "id": "ATmyZmdShWm_",
        "outputId": "ad299a75-6600-4d0b-9cea-1a66390d0663"
      },
      "outputs": [
        {
          "output_type": "stream",
          "name": "stdout",
          "text": [
            "3\n"
          ]
        }
      ],
      "source": [
        "# solution 1\n",
        "\n",
        "print(int(3.141592))"
      ]
    },
    {
      "cell_type": "code",
      "source": [
        "# solution 2\n",
        "\n",
        "# b"
      ],
      "metadata": {
        "id": "wfra9-NGhdFH"
      },
      "execution_count": null,
      "outputs": []
    },
    {
      "cell_type": "code",
      "source": [
        "# solution 3\n",
        "\n",
        "my_name = input()\n",
        "print(f'안녕하세요. {my_name}입니다.')"
      ],
      "metadata": {
        "colab": {
          "base_uri": "https://localhost:8080/"
        },
        "id": "y3l59I0UhdUo",
        "outputId": "fd900f80-0934-42a0-9b47-712fd1e910a7"
      },
      "execution_count": 3,
      "outputs": [
        {
          "output_type": "stream",
          "name": "stdout",
          "text": [
            "홍길동\n",
            "안녕하세요. 홍길동입니다.\n"
          ]
        }
      ]
    },
    {
      "cell_type": "code",
      "source": [
        "# solution 4\n",
        "\n",
        "c"
      ],
      "metadata": {
        "id": "XgznL9HhhdXp"
      },
      "execution_count": null,
      "outputs": []
    },
    {
      "cell_type": "code",
      "source": [
        "# solution 5\n",
        "\n",
        "num = int(input())\n",
        "def divisor(num):\n",
        "  result = []\n",
        "  count = 1\n",
        "  while count <= num:\n",
        "    if num % count == 0:\n",
        "      result.append(count)\n",
        "    count += 1\n",
        "  return result\n",
        "\n",
        "divisor(num)"
      ],
      "metadata": {
        "colab": {
          "base_uri": "https://localhost:8080/"
        },
        "id": "V1cfqxKxhdar",
        "outputId": "0db93a06-e7b9-4f25-bfef-67a422afcf57"
      },
      "execution_count": 4,
      "outputs": [
        {
          "name": "stdout",
          "output_type": "stream",
          "text": [
            "10\n"
          ]
        },
        {
          "output_type": "execute_result",
          "data": {
            "text/plain": [
              "[1, 2, 5, 10]"
            ]
          },
          "metadata": {},
          "execution_count": 4
        }
      ]
    },
    {
      "cell_type": "code",
      "source": [
        "# solution 6\n",
        "def solution(l, a):\n",
        "  return l.count(a)\n",
        "\n",
        "solution(['a', 'b', 'c', 'a', 'a'], 'a')"
      ],
      "metadata": {
        "colab": {
          "base_uri": "https://localhost:8080/"
        },
        "id": "ywZP47WThdef",
        "outputId": "27f35bee-f07e-4b19-b2c6-8eeead0f0970"
      },
      "execution_count": 5,
      "outputs": [
        {
          "output_type": "execute_result",
          "data": {
            "text/plain": [
              "3"
            ]
          },
          "metadata": {},
          "execution_count": 5
        }
      ]
    },
    {
      "cell_type": "code",
      "source": [
        "# solution 7\n",
        "\n",
        "def solution(l):\n",
        "  return list(sorted(l, key = lambda x:x[1], reverse = True))\n",
        "\n",
        "solution([[10, 5], [20, 3], [30, 4], [40, 1]]) "
      ],
      "metadata": {
        "colab": {
          "base_uri": "https://localhost:8080/"
        },
        "id": "7OX5Oru8hdi5",
        "outputId": "ee71081d-3010-4d81-e81d-2c3abcdf3835"
      },
      "execution_count": 8,
      "outputs": [
        {
          "output_type": "execute_result",
          "data": {
            "text/plain": [
              "[[10, 5], [30, 4], [20, 3], [40, 1]]"
            ]
          },
          "metadata": {},
          "execution_count": 8
        }
      ]
    },
    {
      "cell_type": "code",
      "source": [
        "# solution 8\n",
        "\n",
        "def solution(l):\n",
        "  return list(map(lambda x : x[0]-x[1], l))\n",
        "\n",
        "solution([[10, 5], [20, 3], [30, 4], [40, 1]]) "
      ],
      "metadata": {
        "colab": {
          "base_uri": "https://localhost:8080/"
        },
        "id": "zeqOcrTDhdrt",
        "outputId": "c7f4bcd7-dd9a-4b48-9eaf-81fc60a81368"
      },
      "execution_count": 11,
      "outputs": [
        {
          "output_type": "execute_result",
          "data": {
            "text/plain": [
              "[5, 17, 26, 39]"
            ]
          },
          "metadata": {},
          "execution_count": 11
        }
      ]
    },
    {
      "cell_type": "code",
      "source": [
        "# solution 9\n",
        "\n",
        "def solution(s):\n",
        "  return sum(int(i) for i in s)\n",
        "\n",
        "solution('11123')"
      ],
      "metadata": {
        "colab": {
          "base_uri": "https://localhost:8080/"
        },
        "id": "S3V_5FYihffO",
        "outputId": "ab325917-cd55-4094-efa7-bbe61b213c28"
      },
      "execution_count": 12,
      "outputs": [
        {
          "output_type": "execute_result",
          "data": {
            "text/plain": [
              "8"
            ]
          },
          "metadata": {},
          "execution_count": 12
        }
      ]
    },
    {
      "cell_type": "code",
      "source": [
        "# solution 10\n",
        "\n",
        "def solution(s):\n",
        "  return s.replace('!', '').replace(' ', '')\n",
        "\n",
        "solution('!hello!wor     ld!     ')"
      ],
      "metadata": {
        "colab": {
          "base_uri": "https://localhost:8080/",
          "height": 35
        },
        "id": "VogtfwpMhfpQ",
        "outputId": "9ffc57ad-5505-4931-86af-84a031550a80"
      },
      "execution_count": 13,
      "outputs": [
        {
          "output_type": "execute_result",
          "data": {
            "text/plain": [
              "'helloworld'"
            ],
            "application/vnd.google.colaboratory.intrinsic+json": {
              "type": "string"
            }
          },
          "metadata": {},
          "execution_count": 13
        }
      ]
    }
  ]
}