{
  "nbformat": 4,
  "nbformat_minor": 0,
  "metadata": {
    "colab": {
      "provenance": []
    },
    "kernelspec": {
      "name": "python3",
      "display_name": "Python 3"
    },
    "language_info": {
      "name": "python"
    }
  },
  "cells": [
    {
      "cell_type": "markdown",
      "source": [
        "* 일반 문자열"
      ],
      "metadata": {
        "id": "cYBg7dmA4v34"
      }
    },
    {
      "cell_type": "code",
      "source": [
        "# /hello/gm\n",
        "# /hello world/gm\n",
        "# /Hello/gm\n",
        "# /Hello/gim"
      ],
      "metadata": {
        "id": "8fcXZ7VE4xHs"
      },
      "execution_count": null,
      "outputs": []
    },
    {
      "cell_type": "markdown",
      "source": [
        "* 처음과 끝"
      ],
      "metadata": {
        "id": "0GF9hDUF40eh"
      }
    },
    {
      "cell_type": "code",
      "source": [
        "# /hello/gm\n",
        "# /hello world/gm\n",
        "# /Hello/gm\n",
        "# /Hello/gim"
      ],
      "metadata": {
        "id": "4d9rPjKl43Wz"
      },
      "execution_count": null,
      "outputs": []
    },
    {
      "cell_type": "markdown",
      "source": [
        "* 모든문자"
      ],
      "metadata": {
        "id": "mbcCCGGt46CI"
      }
    },
    {
      "cell_type": "code",
      "source": [
        "# /./gm : 모든 문자열(*과 같은 역할)\n",
        "# /....../gm : 모든 6개의 문자열"
      ],
      "metadata": {
        "id": "lK2wVXjV484R"
      },
      "execution_count": null,
      "outputs": []
    },
    {
      "cell_type": "markdown",
      "source": [
        "* 택1"
      ],
      "metadata": {
        "id": "F9M3YfWp4-wx"
      }
    },
    {
      "cell_type": "code",
      "source": [
        "# /h[eay]llo/gm : 대괄호 안에 문자는 문자 1개에 해당!\n",
        "# /h[ea]l../gm : 총 5개의 문자"
      ],
      "metadata": {
        "id": "whTXbROl5ScC"
      },
      "execution_count": null,
      "outputs": []
    },
    {
      "cell_type": "markdown",
      "source": [
        "* 범위"
      ],
      "metadata": {
        "id": "lfrQFnM65V1y"
      }
    },
    {
      "cell_type": "code",
      "source": [
        "# /h[a-f]llo/gm\n",
        "# /[a-zA-Z0-9]/gm : 모든 알파뱃과 숫자를 찾음\n",
        "# /[^a-zA-Z0-9]/gm : 나머지 문자열을 찾음"
      ],
      "metadata": {
        "id": "2Ec5D1e_5iaq"
      },
      "execution_count": null,
      "outputs": []
    },
    {
      "cell_type": "markdown",
      "source": [
        "* 부정"
      ],
      "metadata": {
        "id": "UqxVjch85j6i"
      }
    },
    {
      "cell_type": "code",
      "source": [
        "# /h[^ae]llo/gm : 대괄호 안에 있다면 not에 의미"
      ],
      "metadata": {
        "id": "nNSHfUDW5lte"
      },
      "execution_count": null,
      "outputs": []
    },
    {
      "cell_type": "markdown",
      "source": [
        "* 서브패턴"
      ],
      "metadata": {
        "id": "aJinp79O5rgx"
      }
    },
    {
      "cell_type": "code",
      "source": [
        "# /(on|ues|rida)/gm : 그룹 1로 3개 중 매칭되는 패턴 찾음\n",
        "# /(?:on|ues)/gm\n",
        "# /(on|ues)|(rida)/gm : 그룹1(on|ues)과 그룹2(rida)로 각각 매칭되는 패턴 찾음\n",
        "# /.(a|e|o)ll./gm\n",
        "# /hello (?!world)/gm : hello 뒤에 world가 오지 않는 것\n",
        "# /hello (?=world)/gm : hello 뒤에 world가 오는 것"
      ],
      "metadata": {
        "id": "I_YBu2EN5siy"
      },
      "execution_count": null,
      "outputs": []
    },
    {
      "cell_type": "markdown",
      "source": [
        "* 수량자"
      ],
      "metadata": {
        "id": "hPXI_l9c5uAz"
      }
    },
    {
      "cell_type": "code",
      "source": [
        "# _* : 앞에 있는 문자가 0개 ~ N개\n",
        "# _+ : 앞에 있는 문자가 1개 ~ N개\n",
        "# _? : 앞에 있는 문자가 0개 ~ 1개\n",
        "\n",
        "# {3} : 3개\n",
        "# {3,} : 3개 이상\n",
        "# {1,3} : 1개 ~ 3개\n",
        "\n",
        "# _* : 앞에 있는 문자가 0개 ~ N개 ({0,})\n",
        "# _+ : 앞에 있는 문자가 1개 ~ N개({1,})\n",
        "# _? : 앞에 있는 문자가 0개 ~ 1개 ({0,1})\n",
        "\n",
        "# /[0-9]{3}[-.* ][0-9]{4}[-.* ][0-9]{4}/gm\n",
        "# /[0-9a-zA-Z]{2,3}[-.* ][0-9]{3,4}[-.* ][0-9]{4}/gm\n",
        "# /[0-9a-zA-Z]+@[0-9a-zA-Z]+.[a-zA-Z]+/gm"
      ],
      "metadata": {
        "id": "qD-d2EDD5xWt"
      },
      "execution_count": null,
      "outputs": []
    },
    {
      "cell_type": "markdown",
      "source": [
        "* 캐릭터 클래스"
      ],
      "metadata": {
        "id": "n9PW1A-L8JoK"
      }
    },
    {
      "cell_type": "code",
      "source": [
        "# /\\w/gm : 워드\n",
        "# /\\w{5} /gm : 5개의 글자와 스페이스 하나\n",
        "# /\\W/gm : not 워드\n",
        "# /\\d/gm : 숫자\n",
        "# /\\D/gm : not 숫자\n",
        "# /\\s/gm : 스페이스\n",
        "# /\\S/gm : not 스페이스"
      ],
      "metadata": {
        "id": "1GEt5aXM8Lcl"
      },
      "execution_count": null,
      "outputs": []
    },
    {
      "cell_type": "markdown",
      "source": [
        "* 전화번호(연습)"
      ],
      "metadata": {
        "id": "yARBMOjv4i5J"
      }
    },
    {
      "cell_type": "code",
      "source": [
        "# 010[-,. ]?[0-9]{4}[-,. ]?[0-9]{4}"
      ],
      "metadata": {
        "id": "tED0FK0OAYyR"
      },
      "execution_count": null,
      "outputs": []
    }
  ]
}