{
  "nbformat": 4,
  "nbformat_minor": 0,
  "metadata": {
    "colab": {
      "provenance": []
    },
    "kernelspec": {
      "name": "python3",
      "display_name": "Python 3"
    },
    "language_info": {
      "name": "python"
    }
  },
  "cells": [
    {
      "cell_type": "code",
      "execution_count": 2,
      "metadata": {
        "colab": {
          "base_uri": "https://localhost:8080/"
        },
        "id": "5OvaILB2KkCE",
        "outputId": "84ca34fa-2e7c-4fef-d713-ff3652848cc8"
      },
      "outputs": [
        {
          "output_type": "execute_result",
          "data": {
            "text/plain": [
              "30"
            ]
          },
          "metadata": {},
          "execution_count": 2
        }
      ],
      "source": [
        "class Node:\n",
        "  def __init__(self, data):\n",
        "    self.data = data\n",
        "    self.next = None\n",
        "\n",
        "Node1 = Node(10)\n",
        "Node2 = Node(20)\n",
        "Node3 = Node(30)\n",
        "\n",
        "Node1.next = Node2\n",
        "Node2.next = Node3\n",
        "\n",
        "Node1.next.data\n",
        "Node1.next.next.data"
      ]
    },
    {
      "cell_type": "code",
      "source": [
        "class Node:\n",
        "  def __init__(self, data, data2):\n",
        "    self.data = data\n",
        "    self.data2 = data2\n",
        "    self.next = None\n",
        "\n",
        "Node1 = Node(1, 2)\n",
        "Node2 = Node(3, 4)\n",
        "Node3 = Node(5, 6)\n",
        "\n",
        "Node1.next = Node2\n",
        "\n",
        "Node1.next.data2"
      ],
      "metadata": {
        "colab": {
          "base_uri": "https://localhost:8080/"
        },
        "id": "Kmhr8L0JOyE5",
        "outputId": "7d428832-ee2b-442a-cb52-762c00fd7773"
      },
      "execution_count": 7,
      "outputs": [
        {
          "output_type": "execute_result",
          "data": {
            "text/plain": [
              "4"
            ]
          },
          "metadata": {},
          "execution_count": 7
        }
      ]
    },
    {
      "cell_type": "markdown",
      "source": [
        "메소드 오버라이딩은 같은 이름을 함수에 덮어쓰는 것"
      ],
      "metadata": {
        "id": "uB_6RDGLSQaa"
      }
    },
    {
      "cell_type": "code",
      "source": [
        "class Car(object):\n",
        "    maxSpeed = 300\n",
        "    maxPeople = 5\n",
        "    def move(self, x):\n",
        "        print(x, '의 스피드로 달리고 있습니다.')\n",
        "    def stop(self):\n",
        "        print('멈췄습니다.')\n",
        "\n",
        "class HybridCar(Car):\n",
        "    battery = 1000\n",
        "    batteryKM = 300\n",
        "\n",
        "class ElectricCar(HybridCar):\n",
        "    battery = 2000\n",
        "    batteryKM = 600\n",
        "\n",
        "    def move(self, x):\n",
        "        print(self.batteryKM, '만큼 달릴 수 있습니다.')\n",
        "        print(x, '스피드로 달리고 있습니다.')\n",
        "\n",
        "\n",
        "k5 = HybridCar()\n",
        "electricCarK5 = ElectricCar()\n",
        "k5.maxspeed\n",
        "electricCarK5.maxspeed\n",
        "electricCarK5.battery\n",
        "electricCarK5.move(10)"
      ],
      "metadata": {
        "id": "0Jvrpr57RgdZ"
      },
      "execution_count": null,
      "outputs": []
    },
    {
      "cell_type": "code",
      "source": [
        "class A(object):\n",
        "    maxSpeed = 300\n",
        "\n",
        "class B(A):\n",
        "    battery = 1000\n",
        "\n",
        "class C(A):\n",
        "    battery = 2000\n",
        "\n",
        "class D(B, C):\n",
        "    pass\n",
        "\n",
        "D.mro()\n",
        "# D.battery"
      ],
      "metadata": {
        "id": "8x2Iz1F6WhyI"
      },
      "execution_count": null,
      "outputs": []
    },
    {
      "cell_type": "code",
      "source": [
        "class Car(object):\n",
        "    __maxSpeed = 300\n",
        "    maxPeople = 5\n",
        "    def move(self, x):\n",
        "        print(x, '의 스피드로 움직이고 있습니다.')\n",
        "        print(self.__maxSpeed, '가 최고 속도입니다.')\n",
        "    def stop(self):\n",
        "        print('멈췄습니다.')\n",
        "\n",
        "k5 = Car()\n",
        "k5.move(10)\n",
        "# k5.__maxSpeed #error\n",
        "k5.maxPeople"
      ],
      "metadata": {
        "id": "B_8efFjZXt8u"
      },
      "execution_count": null,
      "outputs": []
    },
    {
      "cell_type": "markdown",
      "source": [
        "Solution"
      ],
      "metadata": {
        "id": "vkjH8BX9Z783"
      }
    },
    {
      "cell_type": "code",
      "source": [
        "# 1 \n",
        "원주율 = 3.141592\n",
        "int(원주율)"
      ],
      "metadata": {
        "colab": {
          "base_uri": "https://localhost:8080/"
        },
        "id": "q-YmpMyfZtjm",
        "outputId": "4b8ae643-5421-4910-ce93-af7ac0d06774"
      },
      "execution_count": 8,
      "outputs": [
        {
          "output_type": "execute_result",
          "data": {
            "text/plain": [
              "3"
            ]
          },
          "metadata": {},
          "execution_count": 8
        }
      ]
    },
    {
      "cell_type": "code",
      "source": [
        "# 3\n",
        "my_name = input()\n",
        "print(f'안녕하세요. {my_name}입니다.')"
      ],
      "metadata": {
        "colab": {
          "base_uri": "https://localhost:8080/"
        },
        "id": "S-i5DuCWaEsb",
        "outputId": "48266fe5-07be-4fe4-b8b2-f98796ba6102"
      },
      "execution_count": 9,
      "outputs": [
        {
          "output_type": "stream",
          "name": "stdout",
          "text": [
            "홍길동\n",
            "안녕하세요. 홍길동입니다.\n"
          ]
        }
      ]
    },
    {
      "cell_type": "code",
      "source": [
        "# 5\n",
        "\n",
        "num = int(input())\n",
        "def divisor(num):\n",
        "  data = []\n",
        "  count = 1\n",
        "  while count <= num:\n",
        "    if num % count == 0:\n",
        "      data.append(count)\n",
        "    count += 1\n",
        "  return data\n",
        "\n",
        "divisor(num)"
      ],
      "metadata": {
        "colab": {
          "base_uri": "https://localhost:8080/"
        },
        "id": "H2GSxyT8aVfG",
        "outputId": "e9dffd7b-ee62-405b-f488-f8e42947daf6"
      },
      "execution_count": 22,
      "outputs": [
        {
          "name": "stdout",
          "output_type": "stream",
          "text": [
            "10\n"
          ]
        },
        {
          "output_type": "execute_result",
          "data": {
            "text/plain": [
              "[1, 2, 5, 10]"
            ]
          },
          "metadata": {},
          "execution_count": 22
        }
      ]
    },
    {
      "cell_type": "code",
      "source": [
        "# 6\n",
        "\n",
        "def solution(l, a):\n",
        "  return l.count(a)\n",
        "\n",
        "solution(['a', 'b', 'c', 'a', 'a'], 'a')"
      ],
      "metadata": {
        "colab": {
          "base_uri": "https://localhost:8080/"
        },
        "id": "rskxFmsddZ9k",
        "outputId": "856d33f0-6372-47e7-f1cf-6b2d032d06b4"
      },
      "execution_count": 24,
      "outputs": [
        {
          "output_type": "execute_result",
          "data": {
            "text/plain": [
              "3"
            ]
          },
          "metadata": {},
          "execution_count": 24
        }
      ]
    },
    {
      "cell_type": "code",
      "source": [
        "# 7\n",
        "\n",
        "def solution(l):\n",
        "    return sorted(l, key=lambda x:x[1], reverse=True)\n",
        "\n",
        "solution([[10, 5], [20, 3], [30, 4], [40, 1]]) "
      ],
      "metadata": {
        "colab": {
          "base_uri": "https://localhost:8080/"
        },
        "id": "MjHpqV45d_Yt",
        "outputId": "473bae1b-89a8-4ac3-9fe8-4f4db06af05b"
      },
      "execution_count": 40,
      "outputs": [
        {
          "output_type": "execute_result",
          "data": {
            "text/plain": [
              "[[10, 5], [30, 4], [20, 3], [40, 1]]"
            ]
          },
          "metadata": {},
          "execution_count": 40
        }
      ]
    },
    {
      "cell_type": "code",
      "source": [
        "# 8 \n",
        "\n",
        "def solution(l):\n",
        "    return list(map(lambda x: x[0]-x[1], l))\n",
        "\n",
        "solution([[10, 5], [20, 3], [30, 4], [40, 1]]) "
      ],
      "metadata": {
        "colab": {
          "base_uri": "https://localhost:8080/"
        },
        "id": "HOpu6NoteUci",
        "outputId": "0ca02a3b-2692-4afd-bb25-ab4a3c2208cd"
      },
      "execution_count": 52,
      "outputs": [
        {
          "output_type": "execute_result",
          "data": {
            "text/plain": [
              "[5, 17, 26, 39]"
            ]
          },
          "metadata": {},
          "execution_count": 52
        }
      ]
    },
    {
      "cell_type": "code",
      "source": [
        "# 9\n",
        "\n",
        "def solution(s):\n",
        "    return sum([int(i) for i in s])"
      ],
      "metadata": {
        "id": "L6Qe5bTVeYCH"
      },
      "execution_count": null,
      "outputs": []
    },
    {
      "cell_type": "code",
      "source": [
        "s = '12345'\n",
        "\n",
        "def solution1(s):\n",
        "  return sum(list((int(i) for i in s)))\n",
        "\n",
        "solution1(s)"
      ],
      "metadata": {
        "colab": {
          "base_uri": "https://localhost:8080/"
        },
        "id": "cm2LUWgjVfP1",
        "outputId": "62ebc672-e476-4e1e-ecaf-88ac73643187"
      },
      "execution_count": 56,
      "outputs": [
        {
          "output_type": "execute_result",
          "data": {
            "text/plain": [
              "15"
            ]
          },
          "metadata": {},
          "execution_count": 56
        }
      ]
    },
    {
      "cell_type": "code",
      "source": [
        "# 10\n",
        "\n",
        "def solution(s):\n",
        "    return s.replace('!', '').replace(' ', '')\n",
        "\n",
        "solution('!hello!wor     ld!     ') "
      ],
      "metadata": {
        "colab": {
          "base_uri": "https://localhost:8080/",
          "height": 35
        },
        "id": "flRsav1beaSk",
        "outputId": "a0aa11c3-ad01-4dea-94db-6773a70bf5fe"
      },
      "execution_count": 57,
      "outputs": [
        {
          "output_type": "execute_result",
          "data": {
            "text/plain": [
              "'helloworld'"
            ],
            "application/vnd.google.colaboratory.intrinsic+json": {
              "type": "string"
            }
          },
          "metadata": {},
          "execution_count": 57
        }
      ]
    },
    {
      "cell_type": "markdown",
      "source": [
        "데코레이터"
      ],
      "metadata": {
        "id": "Dhmt29YIllHk"
      }
    },
    {
      "cell_type": "code",
      "source": [
        "# 중요한 코드입니다.\n",
        "# 손으로 2 ~ 3번 써보시길 권해드립니다.\n",
        "def print_hello(func):\n",
        "    def wrap_func():\n",
        "        print('hello')\n",
        "        func()\n",
        "    return wrap_func\n",
        "\n",
        "@print_hello\n",
        "def func1():\n",
        "    print('func1 입니다.')\n",
        "\n",
        "func1()"
      ],
      "metadata": {
        "id": "1bpj0VX5lm5h"
      },
      "execution_count": null,
      "outputs": []
    },
    {
      "cell_type": "code",
      "source": [
        "def 인사말(func):\n",
        "    def wrap_func(이름):\n",
        "        print('안녕하세요.')\n",
        "        func(이름)\n",
        "    return wrap_func\n",
        "\n",
        "@인사말\n",
        "def 자기소개1(name):\n",
        "    print(f'{name}입니다')\n",
        "\n",
        "#인사말\n",
        "def 자기소개2(name):\n",
        "    print(f'{name}입니다.')\n",
        "\n",
        "def 작별인사():\n",
        "    print('안녕히계세요.')\n",
        "\n",
        "자기소개1('이호준')\n",
        "자기소개2('홍길동')\n",
        "작별인사()"
      ],
      "metadata": {
        "colab": {
          "base_uri": "https://localhost:8080/"
        },
        "id": "ihT9kLvkmspV",
        "outputId": "6222981d-78b9-4bb3-fe35-bceee49ca2e4"
      },
      "execution_count": 30,
      "outputs": [
        {
          "output_type": "stream",
          "name": "stdout",
          "text": [
            "안녕하세요.\n",
            "이호준입니다\n",
            "홍길동입니다.\n",
            "안녕히계세요.\n"
          ]
        }
      ]
    },
    {
      "cell_type": "code",
      "source": [
        "def 전처리(func):\n",
        "    def wrap_func(iterable):\n",
        "        iterable = list(map(int, iterable))\n",
        "        print(func(iterable))\n",
        "    return wrap_func\n",
        "\n",
        "@전처리\n",
        "def 평균(l):\n",
        "    return sum(l) / len(l)\n",
        "\n",
        "평균(['1', 2, 3, '4'])"
      ],
      "metadata": {
        "colab": {
          "base_uri": "https://localhost:8080/"
        },
        "id": "Grh9qXXcoWae",
        "outputId": "b11724d8-6fb6-4d22-934b-dacd8645345c"
      },
      "execution_count": 31,
      "outputs": [
        {
          "output_type": "stream",
          "name": "stdout",
          "text": [
            "2.5\n"
          ]
        }
      ]
    },
    {
      "cell_type": "code",
      "source": [
        "# 데코레이터 실습 문제\n",
        "# 다음 값이 들어갔을 때, 숫자만 모두 더하는 코드를 완성하세요.\n",
        "l = ['10', True, False, '21', 0, 10, 20]\n",
        "\n",
        "def 전처리(func):\n",
        "    def warp_func(iterable):\n",
        "        iterable = map(int, filter(lambda x: type(x) == int or type(x) == str, iterable))\n",
        "        return func(iterable)\n",
        "    return warp_func\n",
        "    \n",
        "@전처리\n",
        "def custom_sum(data):\n",
        "    return sum(data)\n",
        "\n",
        "print(custom_sum(l))"
      ],
      "metadata": {
        "colab": {
          "base_uri": "https://localhost:8080/"
        },
        "id": "wrpgL8Y3rIZi",
        "outputId": "9506f8b2-0db2-4399-bd6a-7f1c0b4347ca"
      },
      "execution_count": 32,
      "outputs": [
        {
          "output_type": "stream",
          "name": "stdout",
          "text": [
            "61\n"
          ]
        }
      ]
    }
  ]
}