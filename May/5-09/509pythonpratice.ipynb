{
  "nbformat": 4,
  "nbformat_minor": 0,
  "metadata": {
    "colab": {
      "provenance": []
    },
    "kernelspec": {
      "name": "python3",
      "display_name": "Python 3"
    },
    "language_info": {
      "name": "python"
    }
  },
  "cells": [
    {
      "cell_type": "code",
      "execution_count": 1,
      "metadata": {
        "colab": {
          "base_uri": "https://localhost:8080/"
        },
        "id": "SeT9dY7YHtcA",
        "outputId": "798846e4-8e92-4389-a290-28379ab9a117"
      },
      "outputs": [
        {
          "output_type": "stream",
          "name": "stdout",
          "text": [
            "고기잡이 1 100\n",
            "고기팔기 1 100\n",
            "낚시 2 100\n",
            "통발 2 100\n",
            "큰그물 2 100\n"
          ]
        }
      ],
      "source": [
        "skill = [\n",
        "        ('고기잡이', (1, 100)),\n",
        "        ('고기팔기', (1, 100)),\n",
        "        ('낚시', (2, 100)),\n",
        "        ('통발', (2, 100)),\n",
        "        ('큰그물', (2, 100))\n",
        "]\n",
        "\n",
        "for i, [x, y] in skill:\n",
        "    print(i, x, y)"
      ]
    },
    {
      "cell_type": "code",
      "source": [
        "# 문제\n",
        "# data는 다음과 같은 데이터가 있습니다.\n",
        "# 각각 skill 이름, skill 제한 레벨, skill 포인트, skill 등급입니다.\n",
        "# 아래와 같이 출력해주세요.\n",
        "data = [\n",
        "        ('고기잡이', (1, 100, 'S')),\n",
        "        ('고기팔기', (1, 100, 'A')),\n",
        "        ('낚시', (2, 100, 'A')),\n",
        "        ('통발', (2, 100, 'B')),\n",
        "        ('큰그물', (2, 100, 'S'))\n",
        "]\n",
        "\n",
        "# 출력값\n",
        "# 아래와 같은 형식으로 총 5개 출력해야 합니다.\n",
        "# '축하합니다. S등급에 skill 고기잡이를 습득하셨습니다! \n",
        "#  해당 스킬은 레벨 제한 1에 스필 포인트 100입니다.'"
      ],
      "metadata": {
        "id": "FfALWa4qLQpg"
      },
      "execution_count": null,
      "outputs": []
    },
    {
      "cell_type": "code",
      "source": [
        "import random\n",
        "# up down game\n",
        "\n",
        "result = random.randint(1, 100)\n",
        "\n",
        "while True:\n",
        "    user_input = int(input())\n",
        "    if user_input > result:\n",
        "        print('down')\n",
        "    elif user_input < result:\n",
        "        print('up')\n",
        "    else:\n",
        "        print('맞췄습니다!')\n",
        "        print('프로그램을 종료합니다.')\n",
        "        break"
      ],
      "metadata": {
        "id": "kwj3gKSlRzZs"
      },
      "execution_count": null,
      "outputs": []
    },
    {
      "cell_type": "code",
      "source": [
        "# 다른 언어에서는 이 구문이 작동되지 않습니다.\n",
        "i = 0\n",
        "while i < 10:\n",
        "    if i == 5:\n",
        "        break\n",
        "    i += 1\n",
        "else:\n",
        "    print('정상종료!')"
      ],
      "metadata": {
        "id": "gQjMoCgGVymF"
      },
      "execution_count": null,
      "outputs": []
    },
    {
      "cell_type": "code",
      "source": [
        "def solution(n):\n",
        "    count10 = 0\n",
        "    count3 = 0\n",
        "    while count10 < n:\n",
        "        count10 += 1\n",
        "        count3 += 1\n",
        "        while count3 % 3 == 0 or '3' in str(count3):\n",
        "            count3 += 1\n",
        "    return count3"
      ],
      "metadata": {
        "id": "W0KWN3vPYwdb"
      },
      "execution_count": 7,
      "outputs": []
    },
    {
      "cell_type": "code",
      "source": [
        "[i for i in range(1, 31) if i % 3 != 0 and not('3' in str(i))][n-1]"
      ],
      "metadata": {
        "id": "f7wyeg5lu542"
      },
      "execution_count": null,
      "outputs": []
    },
    {
      "cell_type": "code",
      "source": [
        "def solution(n):\n",
        "    return [i for i in range(1, 1001) if i % 3 != 0 and not('3' in str(i))][n-1]"
      ],
      "metadata": {
        "id": "kguBMbfJu9gE"
      },
      "execution_count": null,
      "outputs": []
    },
    {
      "cell_type": "code",
      "source": [
        "import json\n",
        "\n",
        "data = [\n",
        "  {\n",
        "    \"_id\": \"6019fd4354979ca26b8f91dc\",\n",
        "    \"age\": 26,\n",
        "    \"eyeColor\": \"green\",\n",
        "    \"name\": \"Bender Allen\",\n",
        "    \"gender\": \"male\"\n",
        "  },\n",
        "  {\n",
        "    \"_id\": \"6019fd43db2951868889a0b4\",\n",
        "    \"age\": 27,\n",
        "    \"eyeColor\": \"blue\",\n",
        "    \"name\": \"Jacobs Golden\",\n",
        "    \"gender\": \"male\"\n",
        "  },\n",
        "  {\n",
        "    \"_id\": \"6019fd438c0bf8e775c28536\",\n",
        "    \"age\": 27,\n",
        "    \"eyeColor\": \"brown\",\n",
        "    \"name\": \"Grimes Oneal\",\n",
        "    \"gender\": \"male\"\n",
        "  },\n",
        "  {\n",
        "    \"_id\": \"6019fd43b68a7fd8b081ab26\",\n",
        "    \"age\": 40,\n",
        "    \"eyeColor\": \"blue\",\n",
        "    \"name\": \"Melissa Joyce\",\n",
        "    \"gender\": \"female\"\n",
        "  },\n",
        "  {\n",
        "    \"_id\": \"6019fd436c1edc4757aabb9d\",\n",
        "    \"age\": 32,\n",
        "    \"eyeColor\": \"blue\",\n",
        "    \"name\": \"Malone Bush\",\n",
        "    \"gender\": \"male\"\n",
        "  },\n",
        "  {\n",
        "    \"_id\": \"6019fd438eaf753918f55226\",\n",
        "    \"age\": 34,\n",
        "    \"eyeColor\": \"green\",\n",
        "    \"name\": \"Davenport Hyde\",\n",
        "    \"gender\": \"male\"\n",
        "  },\n",
        "  {\n",
        "    \"_id\": \"6019fd43c35929ff95004109\",\n",
        "    \"age\": 20,\n",
        "    \"eyeColor\": \"blue\",\n",
        "    \"name\": \"Shauna Blevins\",\n",
        "    \"gender\": \"female\"\n",
        "  }\n",
        "]\n",
        "\n",
        "# 회원들의 age 평균\n",
        "total_age = 0\n",
        "for member in data:\n",
        "    total_age += member['age']\n",
        "average_age = total_age / len(data)\n",
        "print(f\"회원들의 age 평균: {average_age}\")\n",
        "\n",
        "# 회원들의 남녀 성비\n",
        "num_male = 0\n",
        "num_female = 0\n",
        "for member in data:\n",
        "    if member['gender'] == 'male':\n",
        "        num_male += 1\n",
        "    else:\n",
        "        num_female += 1\n",
        "\n",
        "gender_ratio = {\n",
        "    'male': num_male / len(data),\n",
        "    'female': num_female / len(data)\n",
        "}\n",
        "print(\"회원들의 남녀 성비:\")\n",
        "for gender, ratio in gender_ratio.items():\n",
        "    print(f\"{gender}: {ratio}\")\n",
        "\n",
        "# maplotlib을 통한 남녀성비 그래프\n",
        "import matplotlib.pyplot as plt\n",
        "\n",
        "labels = ['Male', 'Female']\n",
        "sizes = [num_male, num_female]\n",
        "colors = ['blue', 'pink']\n",
        "plt.pie(sizes, labels=labels, colors=colors, autopct='%1.1f%%')\n",
        "plt.axis('equal')\n",
        "plt.show()"
      ],
      "metadata": {
        "colab": {
          "base_uri": "https://localhost:8080/",
          "height": 479
        },
        "id": "JWYgdK5LxErx",
        "outputId": "39f36bc6-0f0d-4f4c-dbca-38f8bef2e8f7"
      },
      "execution_count": 29,
      "outputs": [
        {
          "output_type": "stream",
          "name": "stdout",
          "text": [
            "회원들의 age 평균: 29.428571428571427\n",
            "회원들의 남녀 성비:\n",
            "male: 0.7142857142857143\n",
            "female: 0.2857142857142857\n"
          ]
        },
        {
          "output_type": "display_data",
          "data": {
            "text/plain": [
              "<Figure size 640x480 with 1 Axes>"
            ],
            "image/png": "[encoded data removed]"
          },
          "metadata": {}
        }
      ]
    },
    {
      "cell_type": "code",
      "source": [
        "# Q1\n",
        "# sol1\n",
        "sum([elem['age'] for elem in data]) / len(data)\n",
        "\n",
        "# sol2 map을 통해 나이 정보만 뽑아내서 더하기\n",
        "sum(map(lambda x:x['age'], data)) / len(data)\n",
        "\n",
        "# Q2\n",
        "\n",
        "male = len(list(filter(lambda x:x['gender'] == 'male', data)))\n",
        "female = len(list(filter(lambda x:x['gender'] == 'female', data)))\n"
      ],
      "metadata": {
        "colab": {
          "base_uri": "https://localhost:8080/"
        },
        "id": "M0fgP6b7yza7",
        "outputId": "4a845638-cae1-4ff9-d73b-b3f4f919c44a"
      },
      "execution_count": 38,
      "outputs": [
        {
          "output_type": "execute_result",
          "data": {
            "text/plain": [
              "(5, 2)"
            ]
          },
          "metadata": {},
          "execution_count": 38
        }
      ]
    },
    {
      "cell_type": "code",
      "source": [
        "average_age = sum(map(lambda x: x['age'], data))/len(data)\n",
        "male = len(list(filter(lambda x: x['gender'] == 'male', data)))\n",
        "female = len(list(filter(lambda x: x['gender'] == 'female', data)))\n",
        "\n",
        "print(f'평균나이는 {average_age} 입니다.\\n성비는 남성 {male} : 여성 {female} 입니다.')"
      ],
      "metadata": {
        "colab": {
          "base_uri": "https://localhost:8080/"
        },
        "id": "JTdVS1aOy4JS",
        "outputId": "163ecc93-95e8-4275-9a94-a6a83f204514"
      },
      "execution_count": 27,
      "outputs": [
        {
          "output_type": "stream",
          "name": "stdout",
          "text": [
            "평균나이는 29.428571428571427 입니다.\n",
            "성비는 남성 5 : 여성 2 입니다.\n"
          ]
        }
      ]
    },
    {
      "cell_type": "code",
      "source": [
        "calculator2 = [lambda x, y:x + y,\n",
        "           lambda x, y:x - y,\n",
        "           lambda x, y:x / y,\n",
        "           lambda x, y:x * y\n",
        "]\n",
        "\n",
        "print(calculator2[0](10, 20))\n",
        "print(calculator2[1](10, 20))\n",
        "print(calculator2[2](10, 20))\n",
        "print(calculator2[3](10, 20))"
      ],
      "metadata": {
        "colab": {
          "base_uri": "https://localhost:8080/"
        },
        "id": "aF72pUkQL7XK",
        "outputId": "9fe9b67f-fdfd-48f3-d6b0-aa202dd75a23"
      },
      "execution_count": 39,
      "outputs": [
        {
          "output_type": "stream",
          "name": "stdout",
          "text": [
            "30\n",
            "-10\n",
            "0.5\n",
            "200\n"
          ]
        }
      ]
    },
    {
      "cell_type": "code",
      "source": [
        "# 실무에서도 많이 사용됩니다.\n",
        "def 제곱(x):\n",
        "    return x ** 2\n",
        "\n",
        "# 재사용 하는 경우에는 함수로 선언하는 경우도 있습니다.\n",
        "list(map(제곱, [1, 2, 3, 4]))\n",
        "list(map(제곱, [1, 2, 3, 4]))\n",
        "\n",
        "list(map(lambda x : x ** 2, [1, 2, 3, 4]))"
      ],
      "metadata": {
        "colab": {
          "base_uri": "https://localhost:8080/"
        },
        "id": "s0WeFROOOSP4",
        "outputId": "ebb0af7e-75da-470a-e5ab-a9d1310050f8"
      },
      "execution_count": 41,
      "outputs": [
        {
          "output_type": "execute_result",
          "data": {
            "text/plain": [
              "[1, 4, 9, 16]"
            ]
          },
          "metadata": {},
          "execution_count": 41
        }
      ]
    },
    {
      "cell_type": "code",
      "source": [
        "숫자 = [1, 2, 3, 4, 5]\n",
        "승수 = [2, 2, 2, 3, 3]\n",
        "\n",
        "#문제\n",
        "#1. 숫자의 승수를 zip으로 맵핑해서 진행하세요.\n",
        "#2. 숫자를 승수만큼 승수하여 결과값을 표현해주세요.\n",
        "#3. 승수한 값이 100이상인 값을 출력하세요.\n",
        "#4. 승수한 값을 모두 더하세요.\n",
        "\n",
        "# sol 1.\n",
        "\n",
        "list(zip(숫자, 승수))\n",
        "\n",
        "# sol 2.\n",
        "\n",
        "list(map(lambda x: x[0] ** x[1], zip(숫자, 승수)))\n",
        "\n",
        "# sol 3.\n",
        "\n",
        "list(filter(lambda x: x >= 100 ,list(map(lambda x: x[0] ** x[1], zip(숫자, 승수)))))\n",
        "\n",
        "# sol 1.\n",
        "\n",
        "sum(list(map(lambda x: x[0] ** x[1], zip(숫자, 승수))))"
      ],
      "metadata": {
        "colab": {
          "base_uri": "https://localhost:8080/"
        },
        "id": "J4sXQG99OZpl",
        "outputId": "13752217-a3bb-40a5-8007-c012c66c8e3b"
      },
      "execution_count": 46,
      "outputs": [
        {
          "output_type": "execute_result",
          "data": {
            "text/plain": [
              "203"
            ]
          },
          "metadata": {},
          "execution_count": 46
        }
      ]
    },
    {
      "cell_type": "code",
      "source": [
        "# 위 문제의 다른 방법의 솔루션\n",
        "\n",
        "n = [1,2,3,4,5]\n",
        "e = [2,2,2,3,3]\n",
        "\n",
        "# Q1.\n",
        "zip(n, e)\n",
        "\n",
        "# Q2.\n",
        "list(map(lambda x:x[0]**x[1], zip(n,e)))\n",
        "\n",
        "# # Q3.\n",
        "list(filter(lambda x:x >= 100, [x**y for x, y in zip(n,e)]))\n",
        "\n",
        "# # Q4.\n",
        "sum([x**y for x, y in zip(n,e)])"
      ],
      "metadata": {
        "id": "Y1LFs2ltQ27t"
      },
      "execution_count": null,
      "outputs": []
    }
  ]
}