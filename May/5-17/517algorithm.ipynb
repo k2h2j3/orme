{
  "nbformat": 4,
  "nbformat_minor": 0,
  "metadata": {
    "colab": {
      "provenance": []
    },
    "kernelspec": {
      "name": "python3",
      "display_name": "Python 3"
    },
    "language_info": {
      "name": "python"
    }
  },
  "cells": [
    {
      "cell_type": "markdown",
      "source": [
        "*연결리스트"
      ],
      "metadata": {
        "id": "WNJy0792dK-s"
      }
    },
    {
      "cell_type": "code",
      "execution_count": 1,
      "metadata": {
        "colab": {
          "base_uri": "https://localhost:8080/"
        },
        "id": "LGtDOJy_c8nw",
        "outputId": "d7d77ce3-6e29-4961-f1d8-796a9ce3d4ac"
      },
      "outputs": [
        {
          "output_type": "execute_result",
          "data": {
            "text/plain": [
              "35"
            ]
          },
          "metadata": {},
          "execution_count": 1
        }
      ],
      "source": [
        "# [90, next] -> [2, next] -> [77, next] -> [35, next] -> [21, next] \n",
        "class Node:\n",
        "    def __init__(self, data):\n",
        "        self.value = data\n",
        "        self.next = None\n",
        "\n",
        "노드1 = Node(90)\n",
        "노드2 = Node(2)\n",
        "노드3 = Node(77)\n",
        "노드4 = Node(35)\n",
        "노드5 = Node(21)\n",
        "\n",
        "노드1.next = 노드2\n",
        "노드2.next = 노드3\n",
        "노드3.next = 노드4\n",
        "노드4.next = 노드5\n",
        "\n",
        "노드1.next.next.next.value"
      ]
    },
    {
      "cell_type": "code",
      "source": [
        "# 변수를 하나 만들면\n",
        "# 자료구조가 무거워 집니다.(순회를 돌거나, 여러 인스턴스를 생성하면 시간이 많이 걸리게 됩니다!)\n",
        "# head -> ['init', next]\n",
        "#               ↑ \n",
        "#              tail\n",
        "# head -> ['init', next] -> [90, next]\n",
        "#                               ↑ \n",
        "#                              tail\n",
        "class Node:\n",
        "    def __init__(self, data):\n",
        "        self.data = data\n",
        "        self.next = None\n",
        "\n",
        "class LinkedList:\n",
        "    def __init__(self):\n",
        "        init = Node('init')\n",
        "        self.head = init\n",
        "        self.tail = init\n",
        "        self.count = 0 # 데이터 수\n",
        "\n",
        "    def __len__(self):\n",
        "        return self.count\n",
        "\n",
        "    def append(self, data):\n",
        "        newNode = Node(data)\n",
        "        self.tail.next = newNode\n",
        "        self.tail = newNode\n",
        "        self.count += 1\n",
        "\n",
        "l = LinkedList()\n",
        "l.append(90)\n",
        "l.append(80)\n",
        "l.append(70)\n",
        "l.append(60)\n",
        "len(l)"
      ],
      "metadata": {
        "colab": {
          "base_uri": "https://localhost:8080/"
        },
        "id": "NTn1VCjKhSb9",
        "outputId": "ff0610db-8f02-44d3-cb69-b9a95bfcc15b"
      },
      "execution_count": 3,
      "outputs": [
        {
          "output_type": "execute_result",
          "data": {
            "text/plain": [
              "4"
            ]
          },
          "metadata": {},
          "execution_count": 3
        }
      ]
    },
    {
      "cell_type": "code",
      "source": [
        "class Node:\n",
        "    def __init__(self, data):\n",
        "        self.data = data\n",
        "        self.next = None\n",
        "\n",
        "class LinkedList:\n",
        "    def __init__(self):\n",
        "        init = Node('init')\n",
        "        self.head = init\n",
        "        self.tail = init\n",
        "        self.count = 0\n",
        "\n",
        "    def __len__(self):\n",
        "        return self.count\n",
        "\n",
        "    def __iter__(self): # 순회가 가능하게 해줌\n",
        "      currentNode = self.head\n",
        "      currentNode = currentNode.next\n",
        "      while currentNode:\n",
        "        yield currentNode.data\n",
        "        currentNode = currentNode.next\n",
        "\n",
        "    def __str__(self): #print\n",
        "      s = ''\n",
        "      currentNode = self.head # init\n",
        "      currentNode = currentNode.next\n",
        "      for i in range(self.count):\n",
        "        s += f'{currentNode.data}, '\n",
        "        currentNode = currentNode.next\n",
        "      return f'[{s[:-2]}]' # 맨 마지막 ',' 와 공백을 없애는 것\n",
        "\n",
        "    def append(self, data):\n",
        "        newNode = Node(data)\n",
        "        self.tail.next = newNode\n",
        "        self.tail = newNode\n",
        "        self.count += 1\n",
        "\n",
        "    def pop(self): # 최근 노드의 값을 반환\n",
        "      lastValue = self.tail.data\n",
        "      currentNode = self.head\n",
        "      for i in range(self.count):\n",
        "        if currentNode.next is self.tail:\n",
        "          self.tail = currentNode\n",
        "          break\n",
        "        currentNode = currentNode.next\n",
        "      self.count -= 1\n",
        "      return lastValue\n",
        "\n",
        "    def find(self, data): # 값을 찾아 그 인덱스 값을 반환해줌\n",
        "      index = -1\n",
        "      currentNode = self.head\n",
        "      for i in range(self.count):\n",
        "        if currentNode.data == data:\n",
        "          return index\n",
        "        index += 1\n",
        "        currentNode = currentNode.next\n",
        "      return index\n",
        "\n",
        "\n",
        "l = LinkedList()\n",
        "l.append(90)\n",
        "l.append(2)\n",
        "l.append(77)\n",
        "l.append(35)\n",
        "l.append(21)\n",
        "\n",
        "# l.head.next.next.next.next.data\n",
        "\n",
        "print(l)"
      ],
      "metadata": {
        "colab": {
          "base_uri": "https://localhost:8080/"
        },
        "id": "02fC3armhxX8",
        "outputId": "5353e1d0-f86e-4e33-eadd-f77f06fcee6d"
      },
      "execution_count": 32,
      "outputs": [
        {
          "output_type": "stream",
          "name": "stdout",
          "text": [
            "[90, 2, 77, 35, 21]\n"
          ]
        }
      ]
    },
    {
      "cell_type": "code",
      "source": [
        "# next 없이 __iter__ 으로 반복문이 가능하게 할 수 있습니다\n",
        "for i in l:\n",
        "  print(i)"
      ],
      "metadata": {
        "colab": {
          "base_uri": "https://localhost:8080/"
        },
        "id": "C7Ooi0Ky8c4v",
        "outputId": "10475929-c0ec-4cc9-9f60-160efc6d0416"
      },
      "execution_count": 34,
      "outputs": [
        {
          "output_type": "stream",
          "name": "stdout",
          "text": [
            "90\n",
            "2\n",
            "77\n",
            "35\n",
            "21\n"
          ]
        }
      ]
    },
    {
      "cell_type": "code",
      "source": [
        "l.pop()"
      ],
      "metadata": {
        "colab": {
          "base_uri": "https://localhost:8080/"
        },
        "id": "i4H7PiL35RB4",
        "outputId": "dcb5224f-f15e-4487-a801-b797410c9772"
      },
      "execution_count": 29,
      "outputs": [
        {
          "output_type": "execute_result",
          "data": {
            "text/plain": [
              "21"
            ]
          },
          "metadata": {},
          "execution_count": 29
        }
      ]
    },
    {
      "cell_type": "code",
      "source": [
        "l.find(35)"
      ],
      "metadata": {
        "colab": {
          "base_uri": "https://localhost:8080/"
        },
        "id": "K-ZblG2G7BiH",
        "outputId": "3ea30533-b4dc-4a88-e1b7-c5881a1ddb8f"
      },
      "execution_count": 31,
      "outputs": [
        {
          "output_type": "execute_result",
          "data": {
            "text/plain": [
              "3"
            ]
          },
          "metadata": {},
          "execution_count": 31
        }
      ]
    },
    {
      "cell_type": "code",
      "source": [
        "# 더블 링크드 리스트\n",
        "# 딕셔너리로 구현\n",
        "node1 = {\n",
        "    'pre' : None,\n",
        "    'data' : 10,\n",
        "    'next' : None\n",
        "}\n",
        "\n",
        "node2 = {\n",
        "    'pre' : None,\n",
        "    'data' : 20,\n",
        "    'next' : None\n",
        "}\n",
        "\n",
        "node3 = {\n",
        "    'pre' : None,\n",
        "    'data' : 30,\n",
        "    'next' : None\n",
        "}\n",
        "\n",
        "node1['next'] = node2\n",
        "\n",
        "node2['pre'] = node1\n",
        "node2['next'] = node3\n",
        "\n",
        "node3['pre'] = node2\n",
        "node3['next'] = node1\n",
        "\n",
        "\n",
        "# 이진  트리\n",
        "\n",
        "node1 = {\n",
        "    'left' : [],\n",
        "    'data' : 5,\n",
        "    'right' : []\n",
        "}\n",
        "\n",
        "node2 = {\n",
        "    'left' : [],\n",
        "    'data' : 10,\n",
        "    'right' : []\n",
        "}\n",
        "\n",
        "node3 = {\n",
        "    'left' : [],\n",
        "    'data' : 30,\n",
        "    'right' : []\n",
        "}\n",
        "\n",
        "node1['left'].append(node2)\n",
        "node1['right'].append(node3)\n",
        "\n",
        "node1['left']"
      ],
      "metadata": {
        "colab": {
          "base_uri": "https://localhost:8080/"
        },
        "id": "vTzeniVD99a9",
        "outputId": "91d8143b-eed0-42fc-e22a-b83a20fb4ad7"
      },
      "execution_count": 39,
      "outputs": [
        {
          "output_type": "execute_result",
          "data": {
            "text/plain": [
              "[{'left': [], 'data': 10, 'right': []}]"
            ]
          },
          "metadata": {},
          "execution_count": 39
        }
      ]
    },
    {
      "cell_type": "markdown",
      "source": [
        "## 연습문제\n",
        " https://school.programmers.co.kr/learn/courses/30/lessons/120864\n"
      ],
      "metadata": {
        "id": "D8spN3opG2f_"
      }
    },
    {
      "cell_type": "code",
      "source": [
        "# 1 findall로 숫자만 뽑아내기\n",
        "\n",
        "import re \n",
        "\n",
        "s = \"aAb1B2cC34oOp\"\n",
        "result = sum(map(int, re.findall('\\d+', s)))\n",
        "\n",
        "result"
      ],
      "metadata": {
        "colab": {
          "base_uri": "https://localhost:8080/"
        },
        "id": "Qm7Px8E4Vqzy",
        "outputId": "00a90d3f-1c12-4a97-9cc2-97d37c8ce18e"
      },
      "execution_count": 62,
      "outputs": [
        {
          "output_type": "execute_result",
          "data": {
            "text/plain": [
              "37"
            ]
          },
          "metadata": {},
          "execution_count": 62
        }
      ]
    },
    {
      "cell_type": "code",
      "source": [
        "# 2 sub로 문자를 +로 바꾼 후 eval('1+1++++1')\n",
        "\n",
        "import re\n",
        "# \"aAb1B2cC34oOp\"\n",
        "s = \"aAb1B2cC34\"\n",
        "result = re.sub('[a-zA-Z]', '+', s)\n",
        "eval(result)"
      ],
      "metadata": {
        "colab": {
          "base_uri": "https://localhost:8080/"
        },
        "id": "BfS_5Az6V0SR",
        "outputId": "9bf9aa9f-8ebd-46c5-e257-f954ec554c34"
      },
      "execution_count": 44,
      "outputs": [
        {
          "output_type": "execute_result",
          "data": {
            "text/plain": [
              "37"
            ]
          },
          "metadata": {},
          "execution_count": 44
        }
      ]
    },
    {
      "cell_type": "code",
      "source": [
        "# 3 split 모든 문자[a-zA-Z]기준으로 split을 해서 sum\n",
        "\n",
        "import re\n",
        "\n",
        "s= 'aAb1B2cC34oOp'\n",
        "intlist = re.split('[a-zA-Z]', s)\n",
        "\n",
        "intlist"
      ],
      "metadata": {
        "colab": {
          "base_uri": "https://localhost:8080/"
        },
        "id": "NK2DQHIBV0Uo",
        "outputId": "fc43efa8-1d9e-4775-e848-160c0031312f"
      },
      "execution_count": 66,
      "outputs": [
        {
          "output_type": "execute_result",
          "data": {
            "text/plain": [
              "['', '', '', '1', '2', '', '34', '', '', '']"
            ]
          },
          "metadata": {},
          "execution_count": 66
        }
      ]
    },
    {
      "cell_type": "markdown",
      "source": [
        "## 연습문제 2.\n",
        "https://school.programmers.co.kr/learn/courses/30/lessons/120956"
      ],
      "metadata": {
        "id": "lKUbqQCuZ5Eq"
      }
    },
    {
      "cell_type": "code",
      "source": [],
      "metadata": {
        "id": "UldohULgZ7IR"
      },
      "execution_count": null,
      "outputs": []
    }
  ]
}