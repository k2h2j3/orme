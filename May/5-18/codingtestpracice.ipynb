{
  "nbformat": 4,
  "nbformat_minor": 0,
  "metadata": {
    "colab": {
      "provenance": []
    },
    "kernelspec": {
      "name": "python3",
      "display_name": "Python 3"
    },
    "language_info": {
      "name": "python"
    }
  },
  "cells": [
    {
      "cell_type": "markdown",
      "source": [
        "## 연습문제\n",
        " https://school.programmers.co.kr/learn/courses/30/lessons/120864\n"
      ],
      "metadata": {
        "id": "D8spN3opG2f_"
      }
    },
    {
      "cell_type": "code",
      "source": [
        "# 1 findall로 숫자만 뽑아내기\n",
        "\n",
        "import re \n",
        "\n",
        "s = \"aAb1B2cC34oOp\"\n",
        "result = sum(map(int, re.findall('\\d+', s)))\n",
        "\n",
        "result"
      ],
      "metadata": {
        "colab": {
          "base_uri": "https://localhost:8080/"
        },
        "id": "Qm7Px8E4Vqzy",
        "outputId": "00a90d3f-1c12-4a97-9cc2-97d37c8ce18e"
      },
      "execution_count": null,
      "outputs": [
        {
          "output_type": "execute_result",
          "data": {
            "text/plain": [
              "37"
            ]
          },
          "metadata": {},
          "execution_count": 62
        }
      ]
    },
    {
      "cell_type": "code",
      "source": [
        "# 2 sub로 문자를 +로 바꾼 후 eval('1+1++++1')\n",
        "\n",
        "import re\n",
        "# \"aAb1B2cC34oOp\"\n",
        "s = \"aAb1B2cC34\"\n",
        "result = re.sub('[a-zA-Z]', '+', s)\n",
        "eval(result)"
      ],
      "metadata": {
        "colab": {
          "base_uri": "https://localhost:8080/"
        },
        "id": "BfS_5Az6V0SR",
        "outputId": "9bf9aa9f-8ebd-46c5-e257-f954ec554c34"
      },
      "execution_count": null,
      "outputs": [
        {
          "output_type": "execute_result",
          "data": {
            "text/plain": [
              "37"
            ]
          },
          "metadata": {},
          "execution_count": 44
        }
      ]
    },
    {
      "cell_type": "code",
      "source": [
        "# 3 split 모든 문자[a-zA-Z]기준으로 split을 해서 sum\n",
        "\n",
        "import re\n",
        "\n",
        "s= 'aAb1B2cC34oOp'\n",
        "intlist = re.split('[a-zA-Z]', s)\n",
        "\n",
        "intlist"
      ],
      "metadata": {
        "colab": {
          "base_uri": "https://localhost:8080/"
        },
        "id": "NK2DQHIBV0Uo",
        "outputId": "fc43efa8-1d9e-4775-e848-160c0031312f"
      },
      "execution_count": null,
      "outputs": [
        {
          "output_type": "execute_result",
          "data": {
            "text/plain": [
              "['', '', '', '1', '2', '', '34', '', '', '']"
            ]
          },
          "metadata": {},
          "execution_count": 66
        }
      ]
    },
    {
      "cell_type": "markdown",
      "source": [
        "## 연습문제 2.\n",
        "https://school.programmers.co.kr/learn/courses/30/lessons/120956"
      ],
      "metadata": {
        "id": "lKUbqQCuZ5Eq"
      }
    },
    {
      "cell_type": "code",
      "source": [
        "import re \n",
        "\n",
        "p = [\"aya\", \"ye\", \"woo\", \"ma\"]\n",
        "for i in "
      ],
      "metadata": {
        "id": "UldohULgZ7IR"
      },
      "execution_count": null,
      "outputs": []
    },
    {
      "cell_type": "markdown",
      "source": [
        "* 순열과 조합이 쓰이는 문제는 '완전 탐색' 문제에서 주로 사용이 됩니다. 아래와 같은 문제도 '완전 탐색'으로 손쉽게 풀 수 있습니다. 단, 효율이 좋지는 않습니다.\n",
        "\n",
        "* https://school.programmers.co.kr/learn/courses/30/lessons/120956"
      ],
      "metadata": {
        "id": "mXddMkKCM0tK"
      }
    },
    {
      "cell_type": "code",
      "source": [
        "#순열 : 순서를 정해서 나열 (nPr)\n",
        "\n",
        "from itertools import permutations\n",
        "\n",
        "# list(permutations([1, 2, 3, 4], 2))+\\\n",
        "# list(permutations([1, 2, 3, 4], 3))+\\\n",
        "# list(permutations([1, 2, 3, 4], 4)) \n",
        "\n",
        "# list(permutations(range(1,5), 2))\n",
        "# list(permutations('hello', 2))\n",
        "\n",
        "\n"
      ],
      "metadata": {
        "colab": {
          "base_uri": "https://localhost:8080/"
        },
        "id": "AsRApwB9NHuj",
        "outputId": "f3205d3a-e5b3-47d4-d477-85ac4687fbe1"
      },
      "execution_count": 6,
      "outputs": [
        {
          "output_type": "execute_result",
          "data": {
            "text/plain": [
              "[(1, 2),\n",
              " (1, 3),\n",
              " (1, 4),\n",
              " (2, 1),\n",
              " (2, 3),\n",
              " (2, 4),\n",
              " (3, 1),\n",
              " (3, 2),\n",
              " (3, 4),\n",
              " (4, 1),\n",
              " (4, 2),\n",
              " (4, 3)]"
            ]
          },
          "metadata": {},
          "execution_count": 6
        }
      ]
    },
    {
      "cell_type": "code",
      "source": [
        "순열 = list(permutations([\"aya\", \"ye\", \"woo\", \"ma\"], 1)) +\\\n",
        "list(permutations([\"aya\", \"ye\", \"woo\", \"ma\"], 2)) +\\\n",
        "list(permutations([\"aya\", \"ye\", \"woo\", \"ma\"], 3)) +\\\n",
        "list(permutations([\"aya\", \"ye\", \"woo\", \"ma\"], 4))\n",
        "\n",
        "순열집합 = []\n",
        "\n",
        "for i in 순열:\n",
        "  순열집합.append(''.join(i))\n",
        "\n",
        "count = 0\n",
        "for i in [\"ayaye\", \"uuuma\", \"ye\", \"yemawoo\", \"ayaa\"]:\n",
        "  if i in 순열집합:\n",
        "    count += 1\n",
        "\n",
        "count"
      ],
      "metadata": {
        "colab": {
          "base_uri": "https://localhost:8080/"
        },
        "id": "WLXHNvD9NxF1",
        "outputId": "4ff78aea-64a6-4979-af47-2fcc66da8fff"
      },
      "execution_count": 8,
      "outputs": [
        {
          "output_type": "execute_result",
          "data": {
            "text/plain": [
              "3"
            ]
          },
          "metadata": {},
          "execution_count": 8
        }
      ]
    },
    {
      "cell_type": "code",
      "source": [
        "# 정규표현식으로 풀이\n",
        "\n",
        "import re\n",
        "\n",
        "def solution(babbling):\n",
        "    count = 0\n",
        "    p = [\"aya\", \"ye\", \"woo\", \"ma\"]\n",
        "    for i in babbling:\n",
        "        print('------------')\n",
        "        print(i)\n",
        "        for pattern in p:\n",
        "            i = re.sub(pattern, ' ', i)\n",
        "            print(i)\n",
        "        if i.replace(' ', '') == '':\n",
        "            count += 1\n",
        "    return count\n",
        "\n",
        "solution([\"aya\", \"yee\", \"u\", \"maa\", \"wyeoo\"])"
      ],
      "metadata": {
        "colab": {
          "base_uri": "https://localhost:8080/"
        },
        "id": "RxhMKFi4SCxr",
        "outputId": "2e79ea36-d788-4cd7-87b9-4dc70266fbad"
      },
      "execution_count": 11,
      "outputs": [
        {
          "output_type": "stream",
          "name": "stdout",
          "text": [
            "------------\n",
            "aya\n",
            " \n",
            " \n",
            " \n",
            " \n",
            "------------\n",
            "yee\n",
            "yee\n",
            " e\n",
            " e\n",
            " e\n",
            "------------\n",
            "u\n",
            "u\n",
            "u\n",
            "u\n",
            "u\n",
            "------------\n",
            "maa\n",
            "maa\n",
            "maa\n",
            "maa\n",
            " a\n",
            "------------\n",
            "wyeoo\n",
            "wyeoo\n",
            "w oo\n",
            "w oo\n",
            "w oo\n"
          ]
        },
        {
          "output_type": "execute_result",
          "data": {
            "text/plain": [
              "1"
            ]
          },
          "metadata": {},
          "execution_count": 11
        }
      ]
    },
    {
      "cell_type": "markdown",
      "source": [
        "## # 조합 : 순서를 정하지않고 나열한다 (nCr)"
      ],
      "metadata": {
        "id": "jAaiW6cKSFih"
      }
    },
    {
      "cell_type": "code",
      "source": [
        "from itertools import combinations\n",
        "\n",
        "list(combinations([1, 2, 3, 4], 2))"
      ],
      "metadata": {
        "colab": {
          "base_uri": "https://localhost:8080/"
        },
        "id": "SrWVl3NjPYkz",
        "outputId": "e6e03909-3f3f-443f-f895-f50ff1563d30"
      },
      "execution_count": 10,
      "outputs": [
        {
          "output_type": "execute_result",
          "data": {
            "text/plain": [
              "[(1, 2), (1, 3), (1, 4), (2, 3), (2, 4), (3, 4)]"
            ]
          },
          "metadata": {},
          "execution_count": 10
        }
      ]
    },
    {
      "cell_type": "markdown",
      "source": [],
      "metadata": {
        "id": "QMzn3b53QKMV"
      }
    }
  ]
}