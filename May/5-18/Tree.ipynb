{
  "nbformat": 4,
  "nbformat_minor": 0,
  "metadata": {
    "colab": {
      "provenance": []
    },
    "kernelspec": {
      "name": "python3",
      "display_name": "Python 3"
    },
    "language_info": {
      "name": "python"
    }
  },
  "cells": [
    {
      "cell_type": "code",
      "execution_count": 2,
      "metadata": {
        "colab": {
          "base_uri": "https://localhost:8080/",
          "height": 209
        },
        "id": "ZKkZmaqhDS82",
        "outputId": "a1a10ae3-c9d4-4004-d5a5-9a183322efcd"
      },
      "outputs": [
        {
          "output_type": "error",
          "ename": "KeyError",
          "evalue": "ignored",
          "traceback": [
            "\u001b[0;31m---------------------------------------------------------------------------\u001b[0m",
            "\u001b[0;31mKeyError\u001b[0m                                  Traceback (most recent call last)",
            "\u001b[0;32m<ipython-input-2-556b960aec88>\u001b[0m in \u001b[0;36m<cell line: 33>\u001b[0;34m()\u001b[0m\n\u001b[1;32m     31\u001b[0m }\n\u001b[1;32m     32\u001b[0m \u001b[0;34m\u001b[0m\u001b[0m\n\u001b[0;32m---> 33\u001b[0;31m \u001b[0mtree\u001b[0m\u001b[0;34m[\u001b[0m\u001b[0;34m'root'\u001b[0m\u001b[0;34m]\u001b[0m\u001b[0;34m[\u001b[0m\u001b[0;34m'left'\u001b[0m\u001b[0;34m]\u001b[0m\u001b[0;34m[\u001b[0m\u001b[0;34m'right'\u001b[0m\u001b[0;34m]\u001b[0m\u001b[0;34m[\u001b[0m\u001b[0;34m'value'\u001b[0m\u001b[0;34m]\u001b[0m\u001b[0;34m\u001b[0m\u001b[0;34m\u001b[0m\u001b[0m\n\u001b[0m",
            "\u001b[0;31mKeyError\u001b[0m: 'right'"
          ]
        }
      ],
      "source": [
        "tree = {\n",
        "    'root': {\n",
        "        'value': 5,\n",
        "        'left': {\n",
        "            'value': 3,\n",
        "            'left': {\n",
        "                'value': 1,\n",
        "                'left': None,\n",
        "                'right': None\n",
        "            },\n",
        "            'rigth': {\n",
        "                'value': 4,\n",
        "                'left': None,\n",
        "                'right': None\n",
        "            }\n",
        "        },\n",
        "        'right': {\n",
        "            'value': 8,\n",
        "            'left': {\n",
        "                'value': 6,\n",
        "                'left': None,\n",
        "                'right': None\n",
        "            },\n",
        "            'rigth': {\n",
        "                'value': 9,\n",
        "                'left': None,\n",
        "                'right': None\n",
        "            }\n",
        "        }\n",
        "    }\n",
        "}\n",
        "\n",
        "tree['root']['left']['right']['value']"
      ]
    },
    {
      "cell_type": "code",
      "source": [
        "# 노드 선언\n",
        "node1 = {\n",
        "    'value': 5,\n",
        "    'left': None,\n",
        "    'right': None\n",
        "}\n",
        "\n",
        "node2 = {\n",
        "    'value': 3,\n",
        "    'left': None,\n",
        "    'right': None\n",
        "}\n",
        "\n",
        "node3 = {\n",
        "    'value': 8,\n",
        "    'left': None,\n",
        "    'right': None\n",
        "}\n",
        "\n",
        "node4 = {\n",
        "    'value': 1,\n",
        "    'left': None,\n",
        "    'right': None\n",
        "}\n",
        "\n",
        "node5 = {\n",
        "    'value': 4,\n",
        "    'left': None,\n",
        "    'right': None\n",
        "}\n",
        "\n",
        "node6 = {\n",
        "    'value': 6,\n",
        "    'left': None,\n",
        "    'right': None\n",
        "}\n",
        "\n",
        "node7 = {\n",
        "    'value': 9,\n",
        "    'left': None,\n",
        "    'right': None\n",
        "}"
      ],
      "metadata": {
        "id": "rNASRMYEEuN7"
      },
      "execution_count": 4,
      "outputs": []
    },
    {
      "cell_type": "code",
      "source": [
        "# 노드 연결\n",
        "\n",
        "node1['left'] = node2\n",
        "node1['right'] = node3\n",
        "\n",
        "node2['left'] = node4\n",
        "node2['right'] = node5\n",
        "\n",
        "node3['left'] = node6\n",
        "node3['right'] = node7"
      ],
      "metadata": {
        "id": "zcpSah6TFEfC"
      },
      "execution_count": 6,
      "outputs": []
    },
    {
      "cell_type": "code",
      "source": [
        "# 노드 호출\n",
        "node1['left']['right']['value'] # node5 value"
      ],
      "metadata": {
        "colab": {
          "base_uri": "https://localhost:8080/"
        },
        "id": "-PpBkRgYFWpU",
        "outputId": "e82730e0-c432-4582-f41d-5bc11bebd9c5"
      },
      "execution_count": 8,
      "outputs": [
        {
          "output_type": "execute_result",
          "data": {
            "text/plain": [
              "4"
            ]
          },
          "metadata": {},
          "execution_count": 8
        }
      ]
    },
    {
      "cell_type": "markdown",
      "source": [
        "## 클래스로 노드 만들기"
      ],
      "metadata": {
        "id": "iTWlEmmrIf7r"
      }
    },
    {
      "cell_type": "code",
      "source": [
        "class Node:\n",
        "    def __init__(self, data):\n",
        "        self.data = data\n",
        "        self.left = None\n",
        "        self.right = None\n",
        "\n",
        "class Tree:\n",
        "    def __init__(self, data):\n",
        "        init = Node(data)\n",
        "        self.root = init\n",
        "        self.count = 1\n",
        "\n",
        "    def __len__(self):\n",
        "        return self.count\n",
        "\n",
        "    def insert(self, data):\n",
        "        newNode = Node(data)\n",
        "        currentNode = self.root\n",
        "\n",
        "        while currentNode:\n",
        "            # 같은 값이면 값을 추가시켜주지 않습니다.\n",
        "            if data == currentNode.data:\n",
        "                return\n",
        "            elif data < currentNode.data:\n",
        "                # 왼쪽으로 가야합니다.\n",
        "                if not currentNode.left:\n",
        "                    # 만약 왼쪽 노드가 비어있으면\n",
        "                    currentNode.left = newNode\n",
        "                    self.count += 1\n",
        "                    return\n",
        "                # 만약 왼쪽 노드가 비어있지 않다면\n",
        "                currentNode = currentNode.left\n",
        "            elif data > currentNode.data:\n",
        "                # 오른쪽으로 가야합니다.\n",
        "                if not currentNode.right:\n",
        "                    # 만약 오른쪽 노드가 비어있으면\n",
        "                    currentNode.right = newNode\n",
        "                    self.count += 1\n",
        "                    return\n",
        "                # 만약 오른쪽 노드가 비어있지 않다면\n",
        "                currentNode = currentNode.right\n",
        "\n",
        "    # 깊이 우선 탐색 : 스택\n",
        "    # Depth First Search\n",
        "    def DFS(self):\n",
        "        result = []\n",
        "        stack = [self.root]\n",
        "\n",
        "        while len(stack) != 0:\n",
        "          current = stack.pop()\n",
        "          if current.right:\n",
        "            stack.append(current.right)\n",
        "          if current.left:\n",
        "            stack.append(current.left)\n",
        "          result.append(current.data)\n",
        "        return result\n",
        "\n",
        "    # 너비 우선 탐색 : 큐\n",
        "    # Breadth First Search\n",
        "    def BFS(self):\n",
        "        result = []\n",
        "        queue = [self.root]\n",
        "\n",
        "        while len(queue) != 0:\n",
        "          current = queue.pop(0)\n",
        "          if current.right:\n",
        "            queue.append(current.right)\n",
        "          if current.left:\n",
        "            queue.append(current.left)\n",
        "          result.append(current.data)\n",
        "        return result\n",
        "\n",
        "node1 = Node(5)\n",
        "node2 = Node(3)\n",
        "node3 = Node(8)\n",
        "node4 = Node(1)\n",
        "node5 = Node(4)\n",
        "node6 = Node(6)\n",
        "node7 = Node(9)"
      ],
      "metadata": {
        "id": "-PYF4wkKF6Da"
      },
      "execution_count": 21,
      "outputs": []
    },
    {
      "cell_type": "code",
      "source": [
        "# 데이터 삽입(연결)\n",
        "t = Tree(5)\n",
        "t.insert(3)\n",
        "t.insert(8)\n",
        "t.insert(1)\n",
        "t.insert(4)\n",
        "t.insert(6)\n",
        "t.insert(9)"
      ],
      "metadata": {
        "id": "PtNgfonLL4sE"
      },
      "execution_count": 22,
      "outputs": []
    },
    {
      "cell_type": "code",
      "source": [
        "# t.root.left.data\n",
        "# t.DFS()\n",
        "t.BFS()"
      ],
      "metadata": {
        "colab": {
          "base_uri": "https://localhost:8080/"
        },
        "id": "_CdBssl4MRid",
        "outputId": "37a890cb-06c3-4e12-96fd-cf6218027aca"
      },
      "execution_count": 23,
      "outputs": [
        {
          "output_type": "execute_result",
          "data": {
            "text/plain": [
              "[5, 8, 3, 9, 6, 4, 1]"
            ]
          },
          "metadata": {},
          "execution_count": 23
        }
      ]
    },
    {
      "cell_type": "code",
      "source": [
        "# 노드 연결\n",
        "\n",
        "node1.left = node2\n",
        "node1.right = node3\n",
        "\n",
        "node2.left = node4\n",
        "node2.right = node5\n",
        "\n",
        "node3.left = node6\n",
        "node3.right = node7"
      ],
      "metadata": {
        "id": "Zumwi1S4IDlj"
      },
      "execution_count": 11,
      "outputs": []
    },
    {
      "cell_type": "code",
      "source": [
        "#노드 호출\n",
        "\n",
        "node1.left.right.data"
      ],
      "metadata": {
        "colab": {
          "base_uri": "https://localhost:8080/"
        },
        "id": "RCVcMbPNIYfs",
        "outputId": "c57d1155-c2f3-48c1-df48-eab6852259ad"
      },
      "execution_count": 12,
      "outputs": [
        {
          "output_type": "execute_result",
          "data": {
            "text/plain": [
              "4"
            ]
          },
          "metadata": {},
          "execution_count": 12
        }
      ]
    }
  ]
}