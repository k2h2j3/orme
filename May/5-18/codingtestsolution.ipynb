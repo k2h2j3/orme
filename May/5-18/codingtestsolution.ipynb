{
  "nbformat": 4,
  "nbformat_minor": 0,
  "metadata": {
    "colab": {
      "provenance": []
    },
    "kernelspec": {
      "name": "python3",
      "display_name": "Python 3"
    },
    "language_info": {
      "name": "python"
    }
  },
  "cells": [
    {
      "cell_type": "code",
      "execution_count": 27,
      "metadata": {
        "colab": {
          "base_uri": "https://localhost:8080/"
        },
        "id": "-Bc6Vw5CYINk",
        "outputId": "fe1c0692-4337-43c6-8576-014fa8d66298"
      },
      "outputs": [
        {
          "output_type": "stream",
          "name": "stdout",
          "text": [
            "물고기 평균 무게 : 2.50 kg\n"
          ]
        }
      ],
      "source": [
        "#solution 1\n",
        "\n",
        "class Fish:\n",
        "\n",
        "  def __init__(self, ls):\n",
        "    self.list = ls\n",
        "  @classmethod\n",
        "  def eval(cls, ls):\n",
        "    result = sum(ls)/len(ls)\n",
        "    print(\"물고기 평균 무게 : {0:.2f} kg\".format(result))\n",
        "\n",
        "Fish.list = [2.5, 3.1, 1.7, 2.8, 2.4]\n",
        "Fish.eval(Fish.list)"
      ]
    },
    {
      "cell_type": "code",
      "source": [
        "#solution 2\n",
        "\n",
        "def get_first_letters(s):\n",
        "  spl = s.split(' ')\n",
        "  result = ''\n",
        "  for i in spl:\n",
        "    result += i[0]\n",
        "  return result\n",
        "  \n",
        "print(get_first_letters(\"Hello World! I Love Python\"))\n",
        "print(get_first_letters(\"이스트소프트 오르미 1기 여러분 반가워요!\"))   \n",
        "print(get_first_letters(\"복잡한 세상 편하게 살자\")) "
      ],
      "metadata": {
        "colab": {
          "base_uri": "https://localhost:8080/"
        },
        "id": "iRfk_V8-Y-hD",
        "outputId": "4476d142-1a9a-4ecc-d739-e7f0ec39ebb4"
      },
      "execution_count": 45,
      "outputs": [
        {
          "output_type": "stream",
          "name": "stdout",
          "text": [
            "HWILP\n",
            "이오1여반\n",
            "복세편살\n"
          ]
        }
      ]
    },
    {
      "cell_type": "code",
      "source": [
        "#solution3\n",
        "\n",
        "def common_elements(list1, list2):\n",
        "  result = [i for i in list1 if i in list2]\n",
        "  return result\n",
        "\n",
        "print(common_elements([1, 2, 3, 4, 5], [4, 5, 6, 7, 8]))\n",
        "print(common_elements(['est', 'weniv', 'ormi'], ['licat', 'ormi']))\n",
        "print(common_elements([1, 2, 3], [4, 5, 6]))"
      ],
      "metadata": {
        "colab": {
          "base_uri": "https://localhost:8080/"
        },
        "id": "-AaK25ULjf9F",
        "outputId": "5840aa83-c379-450d-a262-5f7304d3d18c"
      },
      "execution_count": 52,
      "outputs": [
        {
          "output_type": "stream",
          "name": "stdout",
          "text": [
            "[4, 5]\n",
            "['ormi']\n",
            "[]\n"
          ]
        }
      ]
    },
    {
      "cell_type": "code",
      "source": [
        "# solution5\n",
        "\n",
        "def length_of_lis(nums):\n",
        "  length = len(nums)\n",
        "  dp = [1] * len(nums)\n",
        "\n",
        "  for i in range(length):\n",
        "    for j in range(i):\n",
        "      if nums[i] > nums[j]:\n",
        "        dp[i] = max(dp[i], dp[j]+1)\n",
        "\n",
        "  return max(dp)\n",
        "\n",
        "nums1 = [1, 2, 3, 4, 5]\n",
        "print(length_of_lis(nums1))\n",
        "\n",
        "nums2 = [5, 4, 3, 2, 1]\n",
        "print(length_of_lis(nums2))\n",
        "\n",
        "nums3 = [10, 9, 2, 5, 3, 7, 101, 18]\n",
        "print(length_of_lis(nums3))\n",
        "\n",
        "nums4 = [4, 5, 2, 3, 1, 2]\n",
        "print(length_of_lis(nums4))\n"
      ],
      "metadata": {
        "colab": {
          "base_uri": "https://localhost:8080/"
        },
        "id": "hWd0aZUsoEM-",
        "outputId": "0eabb477-b114-409b-da7f-c184697ff3d0"
      },
      "execution_count": 73,
      "outputs": [
        {
          "output_type": "stream",
          "name": "stdout",
          "text": [
            "5\n",
            "1\n",
            "4\n",
            "2\n"
          ]
        }
      ]
    },
    {
      "cell_type": "code",
      "source": [
        "language_list = ['python', 'java', 'javascript', 'ruby']\n",
        "\n",
        "for i in range(len(language_list)):\n",
        "  language = language_list[i]\n",
        "  print(f'{i + 1}등은 {language}')"
      ],
      "metadata": {
        "colab": {
          "base_uri": "https://localhost:8080/"
        },
        "id": "BeciugqznT2e",
        "outputId": "80f192f2-bc18-4d9d-f4ad-365408c06e93"
      },
      "execution_count": 78,
      "outputs": [
        {
          "output_type": "stream",
          "name": "stdout",
          "text": [
            "1등은 python\n",
            "2등은 java\n",
            "3등은 javascript\n",
            "4등은 ruby\n"
          ]
        }
      ]
    },
    {
      "cell_type": "code",
      "source": [
        "for i, language in enumerate(language_list):\n",
        "  print(f'{i + 1}등은 {language[i]}')"
      ],
      "metadata": {
        "colab": {
          "base_uri": "https://localhost:8080/"
        },
        "id": "ZSAjUm9gwMT_",
        "outputId": "39a9fa35-5ed9-46a0-8cf3-9f3a99c5556c"
      },
      "execution_count": 79,
      "outputs": [
        {
          "output_type": "stream",
          "name": "stdout",
          "text": [
            "1등은 p\n",
            "2등은 a\n",
            "3등은 v\n",
            "4등은 y\n"
          ]
        }
      ]
    }
  ]
}